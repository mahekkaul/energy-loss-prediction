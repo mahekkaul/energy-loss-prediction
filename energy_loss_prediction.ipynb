{
  "nbformat": 4,
  "nbformat_minor": 0,
  "metadata": {
    "colab": {
      "provenance": [],
      "include_colab_link": true
    },
    "kernelspec": {
      "name": "python3",
      "display_name": "Python 3"
    },
    "language_info": {
      "name": "python"
    }
  },
  "cells": [
    {
      "cell_type": "markdown",
      "metadata": {
        "id": "view-in-github",
        "colab_type": "text"
      },
      "source": [
        "<a href=\"https://colab.research.google.com/github/mahekkaul/energy-loss-prediction/blob/main/energy_loss_prediction.ipynb\" target=\"_parent\"><img src=\"https://colab.research.google.com/assets/colab-badge.svg\" alt=\"Open In Colab\"/></a>"
      ]
    },
    {
      "cell_type": "code",
      "source": [
        "import pandas as pd\n",
        "import pandas as pd\n",
        "import numpy as np\n",
        "from sklearn.ensemble import IsolationForest\n",
        "from sklearn.preprocessing import StandardScaler\n",
        "from sklearn.impute import SimpleImputer\n",
        "import matplotlib.pyplot as plt\n",
        "import seaborn as sns\n",
        "\n"
      ],
      "metadata": {
        "id": "HVVxnri8iz8S"
      },
      "execution_count": null,
      "outputs": []
    },
    {
      "cell_type": "code",
      "source": [
        "# Load datasets\n",
        "feeder_df = pd.read_csv(\"/content/feeder_energy_data.csv\")\n",
        "gerc_df = pd.read_csv(\"/content/GERC_slab_wise_data.csv\")\n",
        "solar_df = pd.read_csv(\"/content/Solar_Rooftop_Generation_Data.csv\")\n",
        "ht_load_df = pd.read_csv(\"/content/HT_Load_Details_Data (1).csv\")"
      ],
      "metadata": {
        "id": "oQsHaDSDNXfJ"
      },
      "execution_count": null,
      "outputs": []
    },
    {
      "cell_type": "code",
      "source": [
        "# Standardizing Feeder ID column names\n",
        "feeder_df.rename(columns={\"Feeder ID\": \"Feeder_ID\"}, inplace=True)\n",
        "gerc_df.rename(columns={\"Feeder ID\": \"Feeder_ID\"}, inplace=True)\n",
        "solar_df.rename(columns={\"Feeder ID\": \"Feeder_ID\"}, inplace=True)\n",
        "ht_load_df.rename(columns={\"Feeder ID\": \"Feeder_ID\"}, inplace=True)\n",
        "\n",
        "# Merge using \"outer\" to keep all feeders, even if they exist in only some datasets\n",
        "merged_df = feeder_df.merge(gerc_df, on=\"Feeder_ID\", how=\"outer\")\n",
        "merged_df = merged_df.merge(solar_df, on=\"Feeder_ID\", how=\"outer\")\n",
        "merged_df = merged_df.merge(ht_load_df, on=\"Feeder_ID\", how=\"outer\")"
      ],
      "metadata": {
        "id": "qcR5LnYrjL25"
      },
      "execution_count": null,
      "outputs": []
    },
    {
      "cell_type": "code",
      "source": [
        "# Fill missing Consumer Category with \"Unknown\"\n",
        "merged_df[\"Consumer Category\"].fillna(\"Unknown\", inplace=True)\n",
        "\n",
        "# Fill missing GERC-related values using Consumer Category mean\n",
        "gerc_columns = [\"Slab Range (kWh)\", \"Tariff Rate (₹/kWh)\", \"Monthly Consumption (kWh)\",\n",
        "                \"Billed Amount (₹)\", \"Subsidy (₹)\", \"TOD Tariff (₹/kWh)\",\n",
        "                \"Energy Loss Factor (%)\", \"Renewable Energy Contribution (%)\"]"
      ],
      "metadata": {
        "id": "SPfLRykwjPqA",
        "colab": {
          "base_uri": "https://localhost:8080/"
        },
        "outputId": "c88710ce-e797-4679-fcb6-7e626dc2c0da"
      },
      "execution_count": null,
      "outputs": [
        {
          "output_type": "stream",
          "name": "stderr",
          "text": [
            "<ipython-input-5-cb1d0bc9d439>:2: FutureWarning: A value is trying to be set on a copy of a DataFrame or Series through chained assignment using an inplace method.\n",
            "The behavior will change in pandas 3.0. This inplace method will never work because the intermediate object on which we are setting values always behaves as a copy.\n",
            "\n",
            "For example, when doing 'df[col].method(value, inplace=True)', try using 'df.method({col: value}, inplace=True)' or df[col] = df[col].method(value) instead, to perform the operation inplace on the original object.\n",
            "\n",
            "\n",
            "  merged_df[\"Consumer Category\"].fillna(\"Unknown\", inplace=True)\n"
          ]
        }
      ]
    },
    {
      "cell_type": "code",
      "source": [
        "# Fix 1️⃣: Fill numeric GERC-related columns using Consumer Category-wise mean\n",
        "numeric_gerc_columns = [\"Tariff Rate (₹/kWh)\", \"Monthly Consumption (kWh)\", \"Billed Amount (₹)\",\n",
        "                         \"Subsidy (₹)\", \"TOD Tariff (₹/kWh)\", \"Energy Loss Factor (%)\",\n",
        "                         \"Renewable Energy Contribution (%)\"]\n",
        "\n",
        "for col in numeric_gerc_columns:\n",
        "    merged_df[col] = merged_df.groupby(\"Consumer Category\")[col].transform(lambda x: x.fillna(x.mean()))"
      ],
      "metadata": {
        "id": "4TgWP6sYjUBu"
      },
      "execution_count": null,
      "outputs": []
    },
    {
      "cell_type": "code",
      "source": [
        "# Fix 2️⃣: Fill missing \"Slab Range (kWh)\" using the most frequent category (mode)\n",
        "merged_df[\"Slab Range (kWh)\"] = merged_df[\"Slab Range (kWh)\"].fillna(merged_df[\"Slab Range (kWh)\"].mode()[0])"
      ],
      "metadata": {
        "id": "86aAsmcekHfE"
      },
      "execution_count": null,
      "outputs": []
    },
    {
      "cell_type": "code",
      "source": [
        "# Fix 3️⃣: Fill missing Solar & HT values using Feeder-wise mean\n",
        "solar_columns = [\"Total_Solar_Installed_Capacity_kW\", \"Solar_Energy_Generated_kWh\",\n",
        "                 \"Grid_Export_kWh\", \"Grid_Import_kWh\", \"Net_Consumption_kWh\"]\n",
        "ht_columns = [\"HT_Load_kVA\", \"HT_Consumption_kWh\", \"HT_Max_Demand_kW\", \"HT_Reactive_Power_kVARh\", \"HT_Power_Factor\"]"
      ],
      "metadata": {
        "id": "XXncIjIlkKxB"
      },
      "execution_count": null,
      "outputs": []
    },
    {
      "cell_type": "code",
      "source": [
        "for col in solar_columns:\n",
        "    merged_df[col] = merged_df.groupby(\"Feeder_ID\")[col].transform(lambda x: x.fillna(x.mean()))"
      ],
      "metadata": {
        "id": "Dr9OA_SekPwM"
      },
      "execution_count": null,
      "outputs": []
    },
    {
      "cell_type": "code",
      "source": [
        "for col in ht_columns:\n",
        "    merged_df[col] = merged_df.groupby(\"Feeder_ID\")[col].transform(lambda x: x.fillna(x.mean()))"
      ],
      "metadata": {
        "id": "-kJE5uxVkSWv"
      },
      "execution_count": null,
      "outputs": []
    },
    {
      "cell_type": "code",
      "source": [
        "# Fix 4️⃣: Fill remaining missing values with column mean (only for numeric columns)\n",
        "numeric_columns = merged_df.select_dtypes(include=['number']).columns  # Select only numeric columns\n",
        "merged_df[numeric_columns] = merged_df[numeric_columns].fillna(merged_df[numeric_columns].mean())\n",
        "\n",
        "# Display missing values after fixing\n",
        "print(\"Missing Values After Final Fix:\\n\", merged_df.isnull().sum())"
      ],
      "metadata": {
        "id": "sPogcpbFkW1S",
        "colab": {
          "base_uri": "https://localhost:8080/"
        },
        "outputId": "0abf4719-fdfe-415d-f541-8c552d7be3f9"
      },
      "execution_count": null,
      "outputs": [
        {
          "output_type": "stream",
          "name": "stdout",
          "text": [
            "Missing Values After Final Fix:\n",
            " Feeder_ID                              0\n",
            "Month                                800\n",
            "Consumer_Type                        800\n",
            "Total_Consumers                        0\n",
            "Connected_Load_kW                      0\n",
            "Energy_Consumed_kWh                    0\n",
            "Energy_Billed_kWh                      0\n",
            "Billed_Amount                          0\n",
            "Collection_Amount                      0\n",
            "Solar_Generation_kWh                   0\n",
            "HT_Load_kW                             0\n",
            "Losses_kWh                             0\n",
            "Loss_Percentage                        0\n",
            "Tariff_Category                      800\n",
            "Billing_Mismatch                       0\n",
            "Consumer Category                      0\n",
            "Slab Range (kWh)                       0\n",
            "Tariff Rate (₹/kWh)                    0\n",
            "Monthly Consumption (kWh)              0\n",
            "Billed Amount (₹)                      0\n",
            "Subsidy (₹)                            0\n",
            "TOD Tariff (₹/kWh)                     0\n",
            "Energy Loss Factor (%)                 0\n",
            "Renewable Energy Contribution (%)      0\n",
            "Total_Solar_Installed_Capacity_kW      0\n",
            "Solar_Energy_Generated_kWh             0\n",
            "Grid_Export_kWh                        0\n",
            "Grid_Import_kWh                        0\n",
            "Net_Consumption_kWh                    0\n",
            "HT_Load_kVA                            0\n",
            "HT_Consumption_kWh                     0\n",
            "HT_Max_Demand_kW                       0\n",
            "HT_Reactive_Power_kVARh                0\n",
            "HT_Power_Factor                        0\n",
            "dtype: int64\n"
          ]
        }
      ]
    },
    {
      "cell_type": "code",
      "source": [
        "# Display missing values after fixing\n",
        "print(\"Missing Values After Final Fix:\\n\", merged_df.isnull().sum())"
      ],
      "metadata": {
        "id": "dzH9SCJGlA8w",
        "colab": {
          "base_uri": "https://localhost:8080/"
        },
        "outputId": "772f7176-b93a-4962-c416-f8f7a999f304"
      },
      "execution_count": null,
      "outputs": [
        {
          "output_type": "stream",
          "name": "stdout",
          "text": [
            "Missing Values After Final Fix:\n",
            " Feeder_ID                              0\n",
            "Month                                800\n",
            "Consumer_Type                        800\n",
            "Total_Consumers                        0\n",
            "Connected_Load_kW                      0\n",
            "Energy_Consumed_kWh                    0\n",
            "Energy_Billed_kWh                      0\n",
            "Billed_Amount                          0\n",
            "Collection_Amount                      0\n",
            "Solar_Generation_kWh                   0\n",
            "HT_Load_kW                             0\n",
            "Losses_kWh                             0\n",
            "Loss_Percentage                        0\n",
            "Tariff_Category                      800\n",
            "Billing_Mismatch                       0\n",
            "Consumer Category                      0\n",
            "Slab Range (kWh)                       0\n",
            "Tariff Rate (₹/kWh)                    0\n",
            "Monthly Consumption (kWh)              0\n",
            "Billed Amount (₹)                      0\n",
            "Subsidy (₹)                            0\n",
            "TOD Tariff (₹/kWh)                     0\n",
            "Energy Loss Factor (%)                 0\n",
            "Renewable Energy Contribution (%)      0\n",
            "Total_Solar_Installed_Capacity_kW      0\n",
            "Solar_Energy_Generated_kWh             0\n",
            "Grid_Export_kWh                        0\n",
            "Grid_Import_kWh                        0\n",
            "Net_Consumption_kWh                    0\n",
            "HT_Load_kVA                            0\n",
            "HT_Consumption_kWh                     0\n",
            "HT_Max_Demand_kW                       0\n",
            "HT_Reactive_Power_kVARh                0\n",
            "HT_Power_Factor                        0\n",
            "dtype: int64\n"
          ]
        }
      ]
    },
    {
      "cell_type": "code",
      "source": [
        "# Fix 1️⃣: Fill missing Month with the most frequent (mode) month\n",
        "merged_df[\"Month\"] = merged_df[\"Month\"].fillna(merged_df[\"Month\"].mode()[0])\n"
      ],
      "metadata": {
        "id": "IS5tHF4clLAd"
      },
      "execution_count": null,
      "outputs": []
    },
    {
      "cell_type": "code",
      "source": [
        "merged_df[\"Consumer_Type\"] = merged_df.groupby(\"Feeder_ID\")[\"Consumer_Type\"].transform(lambda x: x.fillna(x.mode()[0] if not x.mode().empty else \"Unknown\"))"
      ],
      "metadata": {
        "id": "8ffxSFfRlk60"
      },
      "execution_count": null,
      "outputs": []
    },
    {
      "cell_type": "code",
      "source": [
        "merged_df[\"Tariff_Category\"] = merged_df.groupby(\"Feeder_ID\")[\"Tariff_Category\"].transform(lambda x: x.fillna(x.mode()[0] if not x.mode().empty else \"Unknown\"))"
      ],
      "metadata": {
        "id": "IB-ekRGVlmGe"
      },
      "execution_count": null,
      "outputs": []
    },
    {
      "cell_type": "code",
      "source": [
        "print(\"Missing Values After Fix:\\n\", merged_df.isnull().sum())"
      ],
      "metadata": {
        "id": "wSdIbK48lpZF",
        "colab": {
          "base_uri": "https://localhost:8080/"
        },
        "outputId": "06296cf5-a850-4a6e-b268-b02c2b3fd4e6"
      },
      "execution_count": null,
      "outputs": [
        {
          "output_type": "stream",
          "name": "stdout",
          "text": [
            "Missing Values After Fix:\n",
            " Feeder_ID                            0\n",
            "Month                                0\n",
            "Consumer_Type                        0\n",
            "Total_Consumers                      0\n",
            "Connected_Load_kW                    0\n",
            "Energy_Consumed_kWh                  0\n",
            "Energy_Billed_kWh                    0\n",
            "Billed_Amount                        0\n",
            "Collection_Amount                    0\n",
            "Solar_Generation_kWh                 0\n",
            "HT_Load_kW                           0\n",
            "Losses_kWh                           0\n",
            "Loss_Percentage                      0\n",
            "Tariff_Category                      0\n",
            "Billing_Mismatch                     0\n",
            "Consumer Category                    0\n",
            "Slab Range (kWh)                     0\n",
            "Tariff Rate (₹/kWh)                  0\n",
            "Monthly Consumption (kWh)            0\n",
            "Billed Amount (₹)                    0\n",
            "Subsidy (₹)                          0\n",
            "TOD Tariff (₹/kWh)                   0\n",
            "Energy Loss Factor (%)               0\n",
            "Renewable Energy Contribution (%)    0\n",
            "Total_Solar_Installed_Capacity_kW    0\n",
            "Solar_Energy_Generated_kWh           0\n",
            "Grid_Export_kWh                      0\n",
            "Grid_Import_kWh                      0\n",
            "Net_Consumption_kWh                  0\n",
            "HT_Load_kVA                          0\n",
            "HT_Consumption_kWh                   0\n",
            "HT_Max_Demand_kW                     0\n",
            "HT_Reactive_Power_kVARh              0\n",
            "HT_Power_Factor                      0\n",
            "dtype: int64\n"
          ]
        }
      ]
    },
    {
      "cell_type": "code",
      "source": [
        "# Drop unnecessary columns that don’t help ML learning\n",
        "drop_cols = [\"Feeder_ID\", \"Month\"]  # Feeder_ID is just an identifier, Month isn't a useful numeric feature\n",
        "ml_df = merged_df.drop(columns=drop_cols)\n",
        "\n",
        "# Display the dataset structure after dropping\n",
        "print(\"Dataset after dropping irrelevant columns:\")\n",
        "print(ml_df.head())"
      ],
      "metadata": {
        "id": "VrBJoM3hmtUh",
        "colab": {
          "base_uri": "https://localhost:8080/"
        },
        "outputId": "d243d526-1026-4c49-e7ed-66e792986e94"
      },
      "execution_count": null,
      "outputs": [
        {
          "output_type": "stream",
          "name": "stdout",
          "text": [
            "Dataset after dropping irrelevant columns:\n",
            "  Consumer_Type  Total_Consumers  Connected_Load_kW  Energy_Consumed_kWh  \\\n",
            "0    Industrial            778.0             8065.0               6648.0   \n",
            "1    Commercial           1190.0             4164.0               1269.0   \n",
            "2    Commercial           1549.0             1714.0               1268.0   \n",
            "3    Commercial            485.0             8706.0               7628.0   \n",
            "4    Industrial            912.0             3175.0                768.0   \n",
            "\n",
            "   Energy_Billed_kWh  Billed_Amount  Collection_Amount  Solar_Generation_kWh  \\\n",
            "0             6332.0       20062.89           19429.52                   0.0   \n",
            "1             1223.0        5464.88            5452.11                  81.0   \n",
            "2             1206.0        6720.38            6552.17                 131.0   \n",
            "3             7412.0       40434.57           39479.68                 371.0   \n",
            "4              764.0        3184.51            2981.42                   0.0   \n",
            "\n",
            "   HT_Load_kW  Losses_kWh  ...  Total_Solar_Installed_Capacity_kW  \\\n",
            "0      1462.0       316.0  ...                           266.8425   \n",
            "1       164.0        46.0  ...                           266.8425   \n",
            "2       228.0        62.0  ...                           266.8425   \n",
            "3       547.0       216.0  ...                           266.8425   \n",
            "4      2293.0         4.0  ...                           266.8425   \n",
            "\n",
            "  Solar_Energy_Generated_kWh  Grid_Export_kWh Grid_Import_kWh  \\\n",
            "0                   5348.875          2808.07       1579.3375   \n",
            "1                   5348.875          2808.07       1579.3375   \n",
            "2                   5348.875          2808.07       1579.3375   \n",
            "3                   5348.875          2808.07       1579.3375   \n",
            "4                   5348.875          2808.07       1579.3375   \n",
            "\n",
            "  Net_Consumption_kWh  HT_Load_kVA  HT_Consumption_kWh  HT_Max_Demand_kW  \\\n",
            "0           2785.7025      2703.36           30409.265          4489.105   \n",
            "1           2785.7025      2703.36           30409.265          4489.105   \n",
            "2           2785.7025      2703.36           30409.265          4489.105   \n",
            "3           2785.7025      2703.36           30409.265          4489.105   \n",
            "4           2785.7025      2703.36           30409.265          4489.105   \n",
            "\n",
            "   HT_Reactive_Power_kVARh  HT_Power_Factor  \n",
            "0                2588.0575          0.89545  \n",
            "1                2588.0575          0.89545  \n",
            "2                2588.0575          0.89545  \n",
            "3                2588.0575          0.89545  \n",
            "4                2588.0575          0.89545  \n",
            "\n",
            "[5 rows x 32 columns]\n"
          ]
        }
      ]
    },
    {
      "cell_type": "code",
      "source": [
        "from sklearn.preprocessing import LabelEncoder\n",
        "\n",
        "# Encode categorical columns\n",
        "cat_cols = [\"Consumer_Type\", \"Tariff_Category\"]\n",
        "encoder = LabelEncoder()\n",
        "\n",
        "for col in cat_cols:\n",
        "    ml_df[col] = encoder.fit_transform(ml_df[col])\n",
        "\n",
        "# Display dataset after encoding\n",
        "print(\"Dataset after encoding categorical values:\")\n",
        "print(ml_df.head())"
      ],
      "metadata": {
        "id": "fsBjDUfbmwe4",
        "colab": {
          "base_uri": "https://localhost:8080/"
        },
        "outputId": "e45666ce-585a-4254-88cc-aa5f96d48cfc"
      },
      "execution_count": null,
      "outputs": [
        {
          "output_type": "stream",
          "name": "stdout",
          "text": [
            "Dataset after encoding categorical values:\n",
            "   Consumer_Type  Total_Consumers  Connected_Load_kW  Energy_Consumed_kWh  \\\n",
            "0              2            778.0             8065.0               6648.0   \n",
            "1              1           1190.0             4164.0               1269.0   \n",
            "2              1           1549.0             1714.0               1268.0   \n",
            "3              1            485.0             8706.0               7628.0   \n",
            "4              2            912.0             3175.0                768.0   \n",
            "\n",
            "   Energy_Billed_kWh  Billed_Amount  Collection_Amount  Solar_Generation_kWh  \\\n",
            "0             6332.0       20062.89           19429.52                   0.0   \n",
            "1             1223.0        5464.88            5452.11                  81.0   \n",
            "2             1206.0        6720.38            6552.17                 131.0   \n",
            "3             7412.0       40434.57           39479.68                 371.0   \n",
            "4              764.0        3184.51            2981.42                   0.0   \n",
            "\n",
            "   HT_Load_kW  Losses_kWh  ...  Total_Solar_Installed_Capacity_kW  \\\n",
            "0      1462.0       316.0  ...                           266.8425   \n",
            "1       164.0        46.0  ...                           266.8425   \n",
            "2       228.0        62.0  ...                           266.8425   \n",
            "3       547.0       216.0  ...                           266.8425   \n",
            "4      2293.0         4.0  ...                           266.8425   \n",
            "\n",
            "   Solar_Energy_Generated_kWh  Grid_Export_kWh Grid_Import_kWh  \\\n",
            "0                    5348.875          2808.07       1579.3375   \n",
            "1                    5348.875          2808.07       1579.3375   \n",
            "2                    5348.875          2808.07       1579.3375   \n",
            "3                    5348.875          2808.07       1579.3375   \n",
            "4                    5348.875          2808.07       1579.3375   \n",
            "\n",
            "  Net_Consumption_kWh  HT_Load_kVA  HT_Consumption_kWh  HT_Max_Demand_kW  \\\n",
            "0           2785.7025      2703.36           30409.265          4489.105   \n",
            "1           2785.7025      2703.36           30409.265          4489.105   \n",
            "2           2785.7025      2703.36           30409.265          4489.105   \n",
            "3           2785.7025      2703.36           30409.265          4489.105   \n",
            "4           2785.7025      2703.36           30409.265          4489.105   \n",
            "\n",
            "   HT_Reactive_Power_kVARh  HT_Power_Factor  \n",
            "0                2588.0575          0.89545  \n",
            "1                2588.0575          0.89545  \n",
            "2                2588.0575          0.89545  \n",
            "3                2588.0575          0.89545  \n",
            "4                2588.0575          0.89545  \n",
            "\n",
            "[5 rows x 32 columns]\n"
          ]
        }
      ]
    },
    {
      "cell_type": "code",
      "source": [
        "from sklearn.model_selection import train_test_split\n",
        "\n",
        "# Define Features (X) and Target (y)\n",
        "X = ml_df.drop(columns=[\"Losses_kWh\"])  # Drop target column from features\n",
        "y = ml_df[\"Losses_kWh\"]  # Target variable: Energy loss\n",
        "\n",
        "# Split into Training (80%) and Testing (20%) sets\n",
        "X_train, X_test, y_train, y_test = train_test_split(X, y, test_size=0.2, random_state=42)\n",
        "\n",
        "# Display dataset size\n",
        "print(f\"Training Set: {X_train.shape}, Testing Set: {X_test.shape}\")"
      ],
      "metadata": {
        "id": "qU_y1MMym5wC",
        "colab": {
          "base_uri": "https://localhost:8080/"
        },
        "outputId": "699a8d65-8273-4df7-f221-f691627c3db6"
      },
      "execution_count": null,
      "outputs": [
        {
          "output_type": "stream",
          "name": "stdout",
          "text": [
            "Training Set: (960, 31), Testing Set: (240, 31)\n"
          ]
        }
      ]
    },
    {
      "cell_type": "code",
      "source": [
        "from sklearn.preprocessing import LabelEncoder\n",
        "\n",
        "# Identify categorical columns\n",
        "cat_cols = [\"Consumer_Type\", \"Tariff_Category\"]\n",
        "\n",
        "# Convert categorical columns to numeric using Label Encoding\n",
        "encoder = LabelEncoder()\n",
        "\n",
        "for col in cat_cols:\n",
        "    ml_df[col] = encoder.fit_transform(ml_df[col])\n",
        "\n",
        "# Check if any categorical values remain\n",
        "print(\"Unique values after encoding:\")\n",
        "for col in cat_cols:\n",
        "    print(f\"{col}: {ml_df[col].unique()}\")"
      ],
      "metadata": {
        "id": "ChHFCq-mnEuf",
        "colab": {
          "base_uri": "https://localhost:8080/"
        },
        "outputId": "e966bf4d-b97d-4913-d669-2f490d056083"
      },
      "execution_count": null,
      "outputs": [
        {
          "output_type": "stream",
          "name": "stdout",
          "text": [
            "Unique values after encoding:\n",
            "Consumer_Type: [2 1 3 0 4]\n",
            "Tariff_Category: [3 1 2 0 4]\n"
          ]
        }
      ]
    },
    {
      "cell_type": "code",
      "source": [
        "from sklearn.preprocessing import LabelEncoder\n",
        "\n",
        "# Identify categorical columns\n",
        "cat_cols = [\"Consumer_Type\", \"Tariff_Category\"]\n",
        "\n",
        "# Convert categorical columns to numeric using Label Encoding\n",
        "encoder = LabelEncoder()\n",
        "\n",
        "for col in cat_cols:\n",
        "    ml_df[col] = encoder.fit_transform(ml_df[col])\n",
        "\n",
        "# Check if any categorical values remain\n",
        "print(\"Unique values after encoding:\")\n",
        "for col in cat_cols:\n",
        "    print(f\"{col}: {ml_df[col].unique()}\")"
      ],
      "metadata": {
        "id": "jONFJSi4nt_v",
        "colab": {
          "base_uri": "https://localhost:8080/"
        },
        "outputId": "3ca987dd-762a-414a-f3ba-be3ea1d1fbeb"
      },
      "execution_count": null,
      "outputs": [
        {
          "output_type": "stream",
          "name": "stdout",
          "text": [
            "Unique values after encoding:\n",
            "Consumer_Type: [2 1 3 0 4]\n",
            "Tariff_Category: [3 1 2 0 4]\n"
          ]
        }
      ]
    },
    {
      "cell_type": "code",
      "source": [
        "# Find columns that contain non-numeric data\n",
        "non_numeric_cols = X_train.select_dtypes(include=['object']).columns\n",
        "print(\"Non-numeric columns:\", non_numeric_cols)"
      ],
      "metadata": {
        "id": "FmqgLVPYoJ0y",
        "colab": {
          "base_uri": "https://localhost:8080/"
        },
        "outputId": "7befac85-c119-42a9-c245-be6db275fb60"
      },
      "execution_count": null,
      "outputs": [
        {
          "output_type": "stream",
          "name": "stdout",
          "text": [
            "Non-numeric columns: Index(['Consumer Category', 'Slab Range (kWh)'], dtype='object')\n"
          ]
        }
      ]
    },
    {
      "cell_type": "code",
      "source": [
        "from sklearn.preprocessing import LabelEncoder\n",
        "\n",
        "# Apply Label Encoding to all non-numeric columns\n",
        "encoder = LabelEncoder()\n",
        "for col in non_numeric_cols:\n",
        "    X_train[col] = encoder.fit_transform(X_train[col])\n",
        "    X_test[col] = encoder.transform(X_test[col])\n",
        "\n",
        "# Verify if all columns are now numeric\n",
        "print(\"Data types after encoding:\\n\", X_train.dtypes)"
      ],
      "metadata": {
        "id": "u53fz6SMoKkX",
        "colab": {
          "base_uri": "https://localhost:8080/"
        },
        "outputId": "cfdb83e2-d85c-4afa-ccdd-25d1232e9437"
      },
      "execution_count": null,
      "outputs": [
        {
          "output_type": "stream",
          "name": "stdout",
          "text": [
            "Data types after encoding:\n",
            " Consumer_Type                          int64\n",
            "Total_Consumers                      float64\n",
            "Connected_Load_kW                    float64\n",
            "Energy_Consumed_kWh                  float64\n",
            "Energy_Billed_kWh                    float64\n",
            "Billed_Amount                        float64\n",
            "Collection_Amount                    float64\n",
            "Solar_Generation_kWh                 float64\n",
            "HT_Load_kW                           float64\n",
            "Loss_Percentage                      float64\n",
            "Tariff_Category                        int64\n",
            "Billing_Mismatch                     float64\n",
            "Consumer Category                      int64\n",
            "Slab Range (kWh)                       int64\n",
            "Tariff Rate (₹/kWh)                  float64\n",
            "Monthly Consumption (kWh)            float64\n",
            "Billed Amount (₹)                    float64\n",
            "Subsidy (₹)                          float64\n",
            "TOD Tariff (₹/kWh)                   float64\n",
            "Energy Loss Factor (%)               float64\n",
            "Renewable Energy Contribution (%)    float64\n",
            "Total_Solar_Installed_Capacity_kW    float64\n",
            "Solar_Energy_Generated_kWh           float64\n",
            "Grid_Export_kWh                      float64\n",
            "Grid_Import_kWh                      float64\n",
            "Net_Consumption_kWh                  float64\n",
            "HT_Load_kVA                          float64\n",
            "HT_Consumption_kWh                   float64\n",
            "HT_Max_Demand_kW                     float64\n",
            "HT_Reactive_Power_kVARh              float64\n",
            "HT_Power_Factor                      float64\n",
            "dtype: object\n"
          ]
        }
      ]
    },
    {
      "cell_type": "code",
      "source": [
        "from sklearn.ensemble import RandomForestRegressor\n",
        "from sklearn.metrics import mean_absolute_error, r2_score\n",
        "\n",
        "# Train Random Forest Model\n",
        "regressor = RandomForestRegressor(n_estimators=100, random_state=42)\n",
        "regressor.fit(X_train, y_train)\n",
        "\n",
        "# Predict on Test Data\n",
        "y_pred = regressor.predict(X_test)\n",
        "\n",
        "# Evaluate Model Performance\n",
        "mae = mean_absolute_error(y_test, y_pred)\n",
        "r2 = r2_score(y_test, y_pred)\n",
        "\n",
        "print(f\"Model Performance:\\nMean Absolute Error: {mae}\\nR² Score: {r2}\")"
      ],
      "metadata": {
        "id": "_x-yqI6MokaE",
        "colab": {
          "base_uri": "https://localhost:8080/"
        },
        "outputId": "d184d17c-183c-49ae-90b5-410ad4c3c0b5"
      },
      "execution_count": null,
      "outputs": [
        {
          "output_type": "stream",
          "name": "stdout",
          "text": [
            "Model Performance:\n",
            "Mean Absolute Error: 3.7628848958335834\n",
            "R² Score: 0.9661726292689472\n"
          ]
        }
      ]
    },
    {
      "cell_type": "code",
      "source": [
        "from sklearn.model_selection import GridSearchCV\n",
        "from sklearn.ensemble import RandomForestRegressor\n",
        "\n",
        "# Define parameter grid\n",
        "param_grid = {\n",
        "    'n_estimators': [100, 200, 300],  # More trees\n",
        "    'max_depth': [10, 20, None],  # Limit depth to prevent overfitting\n",
        "    'min_samples_split': [2, 5, 10],  # Control splits\n",
        "    'min_samples_leaf': [1, 2, 4]  # Control minimum samples per leaf\n",
        "}\n",
        "\n",
        "# Initialize model\n",
        "rf = RandomForestRegressor(random_state=42)\n",
        "\n",
        "# Grid search with cross-validation\n",
        "grid_search = GridSearchCV(estimator=rf, param_grid=param_grid, cv=5, scoring='r2', verbose=2, n_jobs=-1)\n",
        "grid_search.fit(X_train, y_train)\n",
        "\n",
        "# Display best parameters\n",
        "print(\"Best Parameters:\", grid_search.best_params_)\n",
        "\n",
        "# Train model with best parameters\n",
        "best_rf = RandomForestRegressor(**grid_search.best_params_, random_state=42)\n",
        "best_rf.fit(X_train, y_train)\n",
        "\n",
        "# Predict on test data\n",
        "y_pred_tuned = best_rf.predict(X_test)\n",
        "\n",
        "# Evaluate tuned model\n",
        "from sklearn.metrics import mean_absolute_error, r2_score\n",
        "mae_tuned = mean_absolute_error(y_test, y_pred_tuned)\n",
        "r2_tuned = r2_score(y_test, y_pred_tuned)\n",
        "\n",
        "print(f\"Tuned Model Performance:\\nMean Absolute Error: {mae_tuned}\\nR² Score: {r2_tuned}\")"
      ],
      "metadata": {
        "id": "hVppJY73wsbt",
        "colab": {
          "base_uri": "https://localhost:8080/"
        },
        "outputId": "29f451bd-74b3-4a25-b6df-a99b03389188"
      },
      "execution_count": null,
      "outputs": [
        {
          "output_type": "stream",
          "name": "stdout",
          "text": [
            "Fitting 5 folds for each of 81 candidates, totalling 405 fits\n",
            "Best Parameters: {'max_depth': 10, 'min_samples_leaf': 1, 'min_samples_split': 2, 'n_estimators': 300}\n",
            "Tuned Model Performance:\n",
            "Mean Absolute Error: 3.585218503949155\n",
            "R² Score: 0.9697681530780061\n"
          ]
        }
      ]
    },
    {
      "cell_type": "code",
      "source": [
        "import matplotlib.pyplot as plt\n",
        "import seaborn as sns\n",
        "\n",
        "# Scatter plot of actual vs. predicted values\n",
        "plt.figure(figsize=(8, 6))\n",
        "sns.scatterplot(x=y_test, y=y_pred_tuned, color='blue', alpha=0.6)\n",
        "plt.plot([min(y_test), max(y_test)], [min(y_test), max(y_test)], linestyle='--', color='red')  # Perfect prediction line\n",
        "plt.xlabel(\"Actual Energy Loss (kWh)\")\n",
        "plt.ylabel(\"Predicted Energy Loss (kWh)\")\n",
        "plt.title(\"Actual vs. Predicted Energy Losses\")\n",
        "plt.show()"
      ],
      "metadata": {
        "id": "9dqRaSmr23hc",
        "colab": {
          "base_uri": "https://localhost:8080/",
          "height": 564
        },
        "outputId": "63255122-c7a3-4d36-a490-91c59f3bf23c"
      },
      "execution_count": null,
      "outputs": [
        {
          "output_type": "display_data",
          "data": {
            "text/plain": [
              "<Figure size 800x600 with 1 Axes>"
            ],
            "image/png": "[encoded data removed]"
          },
          "metadata": {}
        }
      ]
    },
    {
      "cell_type": "code",
      "source": [
        "# Get feature importances\n",
        "importances = best_rf.feature_importances_\n",
        "feature_names = X_train.columns\n",
        "\n",
        "# Sort feature importance values\n",
        "sorted_indices = importances.argsort()[::-1]\n",
        "\n",
        "# Bar Chart of Feature Importance\n",
        "plt.figure(figsize=(10, 6))\n",
        "sns.barplot(x=importances[sorted_indices], y=[feature_names[i] for i in sorted_indices], palette=\"viridis\")\n",
        "plt.xlabel(\"Importance Score\")\n",
        "plt.ylabel(\"Feature Name\")\n",
        "plt.title(\"Feature Importance in Energy Loss Prediction\")\n",
        "plt.show()"
      ],
      "metadata": {
        "id": "brnPRwCg3BXw",
        "colab": {
          "base_uri": "https://localhost:8080/",
          "height": 671
        },
        "outputId": "c0f9ec84-71c8-4289-8558-4433a590fe95"
      },
      "execution_count": null,
      "outputs": [
        {
          "output_type": "stream",
          "name": "stderr",
          "text": [
            "<ipython-input-27-5efce6baf92d>:10: FutureWarning: \n",
            "\n",
            "Passing `palette` without assigning `hue` is deprecated and will be removed in v0.14.0. Assign the `y` variable to `hue` and set `legend=False` for the same effect.\n",
            "\n",
            "  sns.barplot(x=importances[sorted_indices], y=[feature_names[i] for i in sorted_indices], palette=\"viridis\")\n"
          ]
        },
        {
          "output_type": "display_data",
          "data": {
            "text/plain": [
              "<Figure size 1000x600 with 1 Axes>"
            ],
            "image/png": "[encoded data removed]"
          },
          "metadata": {}
        }
      ]
    },
    {
      "cell_type": "code",
      "source": [
        "# Save the dataset used for training before train-test split\n",
        "merged_df.to_csv(\"Final_Processed_Dataset.csv\", index=False)\n",
        "print(\"Dataset saved as 'Final_Processed_Dataset.csv'\")\n"
      ],
      "metadata": {
        "id": "qEYMpACaMMaJ",
        "colab": {
          "base_uri": "https://localhost:8080/"
        },
        "outputId": "e5bd4ef9-7087-4fe3-a181-480317721c91"
      },
      "execution_count": null,
      "outputs": [
        {
          "output_type": "stream",
          "name": "stdout",
          "text": [
            "Dataset saved as 'Final_Processed_Dataset.csv'\n"
          ]
        }
      ]
    },
    {
      "cell_type": "code",
      "source": [
        "from google.colab import files\n",
        "files.download(\"Final_Processed_Dataset.csv\")\n"
      ],
      "metadata": {
        "id": "Nsx_6ZTNMOp3",
        "colab": {
          "base_uri": "https://localhost:8080/",
          "height": 17
        },
        "outputId": "30a11a29-9d75-4690-d091-4a48df67e06d"
      },
      "execution_count": null,
      "outputs": [
        {
          "output_type": "display_data",
          "data": {
            "text/plain": [
              "<IPython.core.display.Javascript object>"
            ],
            "application/javascript": [
              "\n",
              "    async function download(id, filename, size) {\n",
              "      if (!google.colab.kernel.accessAllowed) {\n",
              "        return;\n",
              "      }\n",
              "      const div = document.createElement('div');\n",
              "      const label = document.createElement('label');\n",
              "      label.textContent = `Downloading \"${filename}\": `;\n",
              "      div.appendChild(label);\n",
              "      const progress = document.createElement('progress');\n",
              "      progress.max = size;\n",
              "      div.appendChild(progress);\n",
              "      document.body.appendChild(div);\n",
              "\n",
              "      const buffers = [];\n",
              "      let downloaded = 0;\n",
              "\n",
              "      const channel = await google.colab.kernel.comms.open(id);\n",
              "      // Send a message to notify the kernel that we're ready.\n",
              "      channel.send({})\n",
              "\n",
              "      for await (const message of channel.messages) {\n",
              "        // Send a message to notify the kernel that we're ready.\n",
              "        channel.send({})\n",
              "        if (message.buffers) {\n",
              "          for (const buffer of message.buffers) {\n",
              "            buffers.push(buffer);\n",
              "            downloaded += buffer.byteLength;\n",
              "            progress.value = downloaded;\n",
              "          }\n",
              "        }\n",
              "      }\n",
              "      const blob = new Blob(buffers, {type: 'application/binary'});\n",
              "      const a = document.createElement('a');\n",
              "      a.href = window.URL.createObjectURL(blob);\n",
              "      a.download = filename;\n",
              "      div.appendChild(a);\n",
              "      a.click();\n",
              "      div.remove();\n",
              "    }\n",
              "  "
            ]
          },
          "metadata": {}
        },
        {
          "output_type": "display_data",
          "data": {
            "text/plain": [
              "<IPython.core.display.Javascript object>"
            ],
            "application/javascript": [
              "download(\"download_4a657e78-086f-4017-8515-8908862a81f4\", \"Final_Processed_Dataset.csv\", 348037)"
            ]
          },
          "metadata": {}
        }
      ]
    },
    {
      "cell_type": "code",
      "source": [
        "import pandas as pd\n",
        "import numpy as np\n",
        "from sklearn.model_selection import train_test_split, KFold, cross_val_score\n",
        "from sklearn.ensemble import RandomForestRegressor\n",
        "from sklearn.metrics import mean_absolute_error, r2_score\n",
        "from imblearn.over_sampling import SMOTE\n",
        "from sklearn.preprocessing import StandardScaler\n",
        "# For Colab: upload your merged feeder file\n",
        "from google.colab import files\n",
        "uploaded = files.upload()\n",
        "\n"
      ],
      "metadata": {
        "colab": {
          "base_uri": "https://localhost:8080/",
          "height": 73
        },
        "id": "IP22frGWXweQ",
        "outputId": "e0c3e6c0-9999-48c4-818a-53c121e3152e"
      },
      "execution_count": null,
      "outputs": [
        {
          "output_type": "display_data",
          "data": {
            "text/plain": [
              "<IPython.core.display.HTML object>"
            ],
            "text/html": [
              "\n",
              "     <input type=\"file\" id=\"files-8bb3a1b9-9bc4-4824-9b10-8ff63e2e7ed2\" name=\"files[]\" multiple disabled\n",
              "        style=\"border:none\" />\n",
              "     <output id=\"result-8bb3a1b9-9bc4-4824-9b10-8ff63e2e7ed2\">\n",
              "      Upload widget is only available when the cell has been executed in the\n",
              "      current browser session. Please rerun this cell to enable.\n",
              "      </output>\n",
              "      <script>// Copyright 2017 Google LLC\n",
              "//\n",
              "// Licensed under the Apache License, Version 2.0 (the \"License\");\n",
              "// you may not use this file except in compliance with the License.\n",
              "// You may obtain a copy of the License at\n",
              "//\n",
              "//      http://www.apache.org/licenses/LICENSE-2.0\n",
              "//\n",
              "// Unless required by applicable law or agreed to in writing, software\n",
              "// distributed under the License is distributed on an \"AS IS\" BASIS,\n",
              "// WITHOUT WARRANTIES OR CONDITIONS OF ANY KIND, either express or implied.\n",
              "// See the License for the specific language governing permissions and\n",
              "// limitations under the License.\n",
              "\n",
              "/**\n",
              " * @fileoverview Helpers for google.colab Python module.\n",
              " */\n",
              "(function(scope) {\n",
              "function span(text, styleAttributes = {}) {\n",
              "  const element = document.createElement('span');\n",
              "  element.textContent = text;\n",
              "  for (const key of Object.keys(styleAttributes)) {\n",
              "    element.style[key] = styleAttributes[key];\n",
              "  }\n",
              "  return element;\n",
              "}\n",
              "\n",
              "// Max number of bytes which will be uploaded at a time.\n",
              "const MAX_PAYLOAD_SIZE = 100 * 1024;\n",
              "\n",
              "function _uploadFiles(inputId, outputId) {\n",
              "  const steps = uploadFilesStep(inputId, outputId);\n",
              "  const outputElement = document.getElementById(outputId);\n",
              "  // Cache steps on the outputElement to make it available for the next call\n",
              "  // to uploadFilesContinue from Python.\n",
              "  outputElement.steps = steps;\n",
              "\n",
              "  return _uploadFilesContinue(outputId);\n",
              "}\n",
              "\n",
              "// This is roughly an async generator (not supported in the browser yet),\n",
              "// where there are multiple asynchronous steps and the Python side is going\n",
              "// to poll for completion of each step.\n",
              "// This uses a Promise to block the python side on completion of each step,\n",
              "// then passes the result of the previous step as the input to the next step.\n",
              "function _uploadFilesContinue(outputId) {\n",
              "  const outputElement = document.getElementById(outputId);\n",
              "  const steps = outputElement.steps;\n",
              "\n",
              "  const next = steps.next(outputElement.lastPromiseValue);\n",
              "  return Promise.resolve(next.value.promise).then((value) => {\n",
              "    // Cache the last promise value to make it available to the next\n",
              "    // step of the generator.\n",
              "    outputElement.lastPromiseValue = value;\n",
              "    return next.value.response;\n",
              "  });\n",
              "}\n",
              "\n",
              "/**\n",
              " * Generator function which is called between each async step of the upload\n",
              " * process.\n",
              " * @param {string} inputId Element ID of the input file picker element.\n",
              " * @param {string} outputId Element ID of the output display.\n",
              " * @return {!Iterable<!Object>} Iterable of next steps.\n",
              " */\n",
              "function* uploadFilesStep(inputId, outputId) {\n",
              "  const inputElement = document.getElementById(inputId);\n",
              "  inputElement.disabled = false;\n",
              "\n",
              "  const outputElement = document.getElementById(outputId);\n",
              "  outputElement.innerHTML = '';\n",
              "\n",
              "  const pickedPromise = new Promise((resolve) => {\n",
              "    inputElement.addEventListener('change', (e) => {\n",
              "      resolve(e.target.files);\n",
              "    });\n",
              "  });\n",
              "\n",
              "  const cancel = document.createElement('button');\n",
              "  inputElement.parentElement.appendChild(cancel);\n",
              "  cancel.textContent = 'Cancel upload';\n",
              "  const cancelPromise = new Promise((resolve) => {\n",
              "    cancel.onclick = () => {\n",
              "      resolve(null);\n",
              "    };\n",
              "  });\n",
              "\n",
              "  // Wait for the user to pick the files.\n",
              "  const files = yield {\n",
              "    promise: Promise.race([pickedPromise, cancelPromise]),\n",
              "    response: {\n",
              "      action: 'starting',\n",
              "    }\n",
              "  };\n",
              "\n",
              "  cancel.remove();\n",
              "\n",
              "  // Disable the input element since further picks are not allowed.\n",
              "  inputElement.disabled = true;\n",
              "\n",
              "  if (!files) {\n",
              "    return {\n",
              "      response: {\n",
              "        action: 'complete',\n",
              "      }\n",
              "    };\n",
              "  }\n",
              "\n",
              "  for (const file of files) {\n",
              "    const li = document.createElement('li');\n",
              "    li.append(span(file.name, {fontWeight: 'bold'}));\n",
              "    li.append(span(\n",
              "        `(${file.type || 'n/a'}) - ${file.size} bytes, ` +\n",
              "        `last modified: ${\n",
              "            file.lastModifiedDate ? file.lastModifiedDate.toLocaleDateString() :\n",
              "                                    'n/a'} - `));\n",
              "    const percent = span('0% done');\n",
              "    li.appendChild(percent);\n",
              "\n",
              "    outputElement.appendChild(li);\n",
              "\n",
              "    const fileDataPromise = new Promise((resolve) => {\n",
              "      const reader = new FileReader();\n",
              "      reader.onload = (e) => {\n",
              "        resolve(e.target.result);\n",
              "      };\n",
              "      reader.readAsArrayBuffer(file);\n",
              "    });\n",
              "    // Wait for the data to be ready.\n",
              "    let fileData = yield {\n",
              "      promise: fileDataPromise,\n",
              "      response: {\n",
              "        action: 'continue',\n",
              "      }\n",
              "    };\n",
              "\n",
              "    // Use a chunked sending to avoid message size limits. See b/62115660.\n",
              "    let position = 0;\n",
              "    do {\n",
              "      const length = Math.min(fileData.byteLength - position, MAX_PAYLOAD_SIZE);\n",
              "      const chunk = new Uint8Array(fileData, position, length);\n",
              "      position += length;\n",
              "\n",
              "      const base64 = btoa(String.fromCharCode.apply(null, chunk));\n",
              "      yield {\n",
              "        response: {\n",
              "          action: 'append',\n",
              "          file: file.name,\n",
              "          data: base64,\n",
              "        },\n",
              "      };\n",
              "\n",
              "      let percentDone = fileData.byteLength === 0 ?\n",
              "          100 :\n",
              "          Math.round((position / fileData.byteLength) * 100);\n",
              "      percent.textContent = `${percentDone}% done`;\n",
              "\n",
              "    } while (position < fileData.byteLength);\n",
              "  }\n",
              "\n",
              "  // All done.\n",
              "  yield {\n",
              "    response: {\n",
              "      action: 'complete',\n",
              "    }\n",
              "  };\n",
              "}\n",
              "\n",
              "scope.google = scope.google || {};\n",
              "scope.google.colab = scope.google.colab || {};\n",
              "scope.google.colab._files = {\n",
              "  _uploadFiles,\n",
              "  _uploadFilesContinue,\n",
              "};\n",
              "})(self);\n",
              "</script> "
            ]
          },
          "metadata": {}
        },
        {
          "output_type": "stream",
          "name": "stdout",
          "text": [
            "Saving Unlabeled_Dataset_for_Unsupervised_Learning.csv to Unlabeled_Dataset_for_Unsupervised_Learning.csv\n"
          ]
        }
      ]
    },
    {
      "cell_type": "code",
      "source": [
        "!pip install pandas scikit-learn\n",
        "df = pd.read_csv(\"/content/Final_Processed_Dataset.csv\")\n",
        "\n",
        "# Define features and target variable\n",
        "# Drop 'Feeder_ID' along with 'Loss_Percentage'\n",
        "X = df.drop(columns=[\"Loss_Percentage\", \"Feeder_ID\"])  # Assuming 'Loss_Percentage' is the target and dropping 'Feeder_ID'\n",
        "y = df[\"Loss_Percentage\"]\n",
        "\n",
        "# Normalize Features\n",
        "scaler = StandardScaler()\n",
        "X_scaled = scaler.fit_transform(X)\n",
        "\n",
        "# Fix Imbalance using SMOTE\n",
        "smote = SMOTE(random_state=42)\n",
        "X_resampled, y_resampled = smote.fit_resample(X_scaled, y)\n",
        "\n",
        "# Train-Test Split\n",
        "X_train, X_test, y_train, y_test = train_test_split(X_resampled, y_resampled, test_size=0.2, random_state=42)\n",
        "\n",
        "# Initialize the model\n",
        "rf_model = RandomForestRegressor(n_estimators=100, random_state=42)\n",
        "\n",
        "# **Apply K-Fold Cross-Validation**\n",
        "kf = KFold(n_splits=5, shuffle=True, random_state=42)\n",
        "cv_scores = cross_val_score(rf_model, X_train, y_train, cv=kf, scoring='r2')\n",
        "\n",
        "# Train the model\n",
        "rf_model.fit(X_train, y_train)\n",
        "\n",
        "# Predictions\n",
        "y_train_pred = rf_model.predict(X_train)\n",
        "y_test_pred = rf_model.predict(X_test)\n",
        "\n",
        "# **Calculate Accuracy Metrics**\n",
        "train_r2 = r2_score(y_train, y_train_pred)\n",
        "test_r2 = r2_score(y_test, y_test_pred)\n",
        "train_mae = mean_absolute_error(y_train, y_train_pred)\n",
        "test_mae = mean_absolute_error(y_test, y_test_pred)\n",
        "\n",
        "# **Print Results**\n",
        "print(f\"Training R² Score: {train_r2:.4f}\")\n",
        "print(f\"Testing R² Score: {test_r2:.4f}\")\n",
        "print(f\"Training MAE: {train_mae:.4f}\")\n",
        "print(f\"Testing MAE: {test_mae:.4f}\")\n",
        "print(f\"Cross-Validation R² Scores: {cv_scores}\")\n",
        "print(f\"Mean CV R² Score: {cv_scores.mean():.4f}\")\n"
      ],
      "metadata": {
        "colab": {
          "base_uri": "https://localhost:8080/",
          "height": 529
        },
        "id": "6VNj9b7vYCgX",
        "outputId": "b6dac6ad-0401-4d86-83d5-859dc1d1a313"
      },
      "execution_count": null,
      "outputs": [
        {
          "output_type": "stream",
          "name": "stdout",
          "text": [
            "Requirement already satisfied: pandas in /usr/local/lib/python3.11/dist-packages (2.2.2)\n",
            "Requirement already satisfied: scikit-learn in /usr/local/lib/python3.11/dist-packages (1.6.1)\n",
            "Requirement already satisfied: numpy>=1.23.2 in /usr/local/lib/python3.11/dist-packages (from pandas) (2.0.2)\n",
            "Requirement already satisfied: python-dateutil>=2.8.2 in /usr/local/lib/python3.11/dist-packages (from pandas) (2.8.2)\n",
            "Requirement already satisfied: pytz>=2020.1 in /usr/local/lib/python3.11/dist-packages (from pandas) (2025.2)\n",
            "Requirement already satisfied: tzdata>=2022.7 in /usr/local/lib/python3.11/dist-packages (from pandas) (2025.2)\n",
            "Requirement already satisfied: scipy>=1.6.0 in /usr/local/lib/python3.11/dist-packages (from scikit-learn) (1.14.1)\n",
            "Requirement already satisfied: joblib>=1.2.0 in /usr/local/lib/python3.11/dist-packages (from scikit-learn) (1.4.2)\n",
            "Requirement already satisfied: threadpoolctl>=3.1.0 in /usr/local/lib/python3.11/dist-packages (from scikit-learn) (3.6.0)\n",
            "Requirement already satisfied: six>=1.5 in /usr/local/lib/python3.11/dist-packages (from python-dateutil>=2.8.2->pandas) (1.17.0)\n"
          ]
        },
        {
          "output_type": "error",
          "ename": "ValueError",
          "evalue": "could not convert string to float: '2022-11'",
          "traceback": [
            "\u001b[0;31m---------------------------------------------------------------------------\u001b[0m",
            "\u001b[0;31mValueError\u001b[0m                                Traceback (most recent call last)",
            "\u001b[0;32m<ipython-input-32-499771ecc73a>\u001b[0m in \u001b[0;36m<cell line: 0>\u001b[0;34m()\u001b[0m\n\u001b[1;32m      9\u001b[0m \u001b[0;31m# Normalize Features\u001b[0m\u001b[0;34m\u001b[0m\u001b[0;34m\u001b[0m\u001b[0m\n\u001b[1;32m     10\u001b[0m \u001b[0mscaler\u001b[0m \u001b[0;34m=\u001b[0m \u001b[0mStandardScaler\u001b[0m\u001b[0;34m(\u001b[0m\u001b[0;34m)\u001b[0m\u001b[0;34m\u001b[0m\u001b[0;34m\u001b[0m\u001b[0m\n\u001b[0;32m---> 11\u001b[0;31m \u001b[0mX_scaled\u001b[0m \u001b[0;34m=\u001b[0m \u001b[0mscaler\u001b[0m\u001b[0;34m.\u001b[0m\u001b[0mfit_transform\u001b[0m\u001b[0;34m(\u001b[0m\u001b[0mX\u001b[0m\u001b[0;34m)\u001b[0m\u001b[0;34m\u001b[0m\u001b[0;34m\u001b[0m\u001b[0m\n\u001b[0m\u001b[1;32m     12\u001b[0m \u001b[0;34m\u001b[0m\u001b[0m\n\u001b[1;32m     13\u001b[0m \u001b[0;31m# Fix Imbalance using SMOTE\u001b[0m\u001b[0;34m\u001b[0m\u001b[0;34m\u001b[0m\u001b[0m\n",
            "\u001b[0;32m/usr/local/lib/python3.11/dist-packages/sklearn/utils/_set_output.py\u001b[0m in \u001b[0;36mwrapped\u001b[0;34m(self, X, *args, **kwargs)\u001b[0m\n\u001b[1;32m    317\u001b[0m     \u001b[0;34m@\u001b[0m\u001b[0mwraps\u001b[0m\u001b[0;34m(\u001b[0m\u001b[0mf\u001b[0m\u001b[0;34m)\u001b[0m\u001b[0;34m\u001b[0m\u001b[0;34m\u001b[0m\u001b[0m\n\u001b[1;32m    318\u001b[0m     \u001b[0;32mdef\u001b[0m \u001b[0mwrapped\u001b[0m\u001b[0;34m(\u001b[0m\u001b[0mself\u001b[0m\u001b[0;34m,\u001b[0m \u001b[0mX\u001b[0m\u001b[0;34m,\u001b[0m \u001b[0;34m*\u001b[0m\u001b[0margs\u001b[0m\u001b[0;34m,\u001b[0m \u001b[0;34m**\u001b[0m\u001b[0mkwargs\u001b[0m\u001b[0;34m)\u001b[0m\u001b[0;34m:\u001b[0m\u001b[0;34m\u001b[0m\u001b[0;34m\u001b[0m\u001b[0m\n\u001b[0;32m--> 319\u001b[0;31m         \u001b[0mdata_to_wrap\u001b[0m \u001b[0;34m=\u001b[0m \u001b[0mf\u001b[0m\u001b[0;34m(\u001b[0m\u001b[0mself\u001b[0m\u001b[0;34m,\u001b[0m \u001b[0mX\u001b[0m\u001b[0;34m,\u001b[0m \u001b[0;34m*\u001b[0m\u001b[0margs\u001b[0m\u001b[0;34m,\u001b[0m \u001b[0;34m**\u001b[0m\u001b[0mkwargs\u001b[0m\u001b[0;34m)\u001b[0m\u001b[0;34m\u001b[0m\u001b[0;34m\u001b[0m\u001b[0m\n\u001b[0m\u001b[1;32m    320\u001b[0m         \u001b[0;32mif\u001b[0m \u001b[0misinstance\u001b[0m\u001b[0;34m(\u001b[0m\u001b[0mdata_to_wrap\u001b[0m\u001b[0;34m,\u001b[0m \u001b[0mtuple\u001b[0m\u001b[0;34m)\u001b[0m\u001b[0;34m:\u001b[0m\u001b[0;34m\u001b[0m\u001b[0;34m\u001b[0m\u001b[0m\n\u001b[1;32m    321\u001b[0m             \u001b[0;31m# only wrap the first output for cross decomposition\u001b[0m\u001b[0;34m\u001b[0m\u001b[0;34m\u001b[0m\u001b[0m\n",
            "\u001b[0;32m/usr/local/lib/python3.11/dist-packages/sklearn/base.py\u001b[0m in \u001b[0;36mfit_transform\u001b[0;34m(self, X, y, **fit_params)\u001b[0m\n\u001b[1;32m    916\u001b[0m         \u001b[0;32mif\u001b[0m \u001b[0my\u001b[0m \u001b[0;32mis\u001b[0m \u001b[0;32mNone\u001b[0m\u001b[0;34m:\u001b[0m\u001b[0;34m\u001b[0m\u001b[0;34m\u001b[0m\u001b[0m\n\u001b[1;32m    917\u001b[0m             \u001b[0;31m# fit method of arity 1 (unsupervised transformation)\u001b[0m\u001b[0;34m\u001b[0m\u001b[0;34m\u001b[0m\u001b[0m\n\u001b[0;32m--> 918\u001b[0;31m             \u001b[0;32mreturn\u001b[0m \u001b[0mself\u001b[0m\u001b[0;34m.\u001b[0m\u001b[0mfit\u001b[0m\u001b[0;34m(\u001b[0m\u001b[0mX\u001b[0m\u001b[0;34m,\u001b[0m \u001b[0;34m**\u001b[0m\u001b[0mfit_params\u001b[0m\u001b[0;34m)\u001b[0m\u001b[0;34m.\u001b[0m\u001b[0mtransform\u001b[0m\u001b[0;34m(\u001b[0m\u001b[0mX\u001b[0m\u001b[0;34m)\u001b[0m\u001b[0;34m\u001b[0m\u001b[0;34m\u001b[0m\u001b[0m\n\u001b[0m\u001b[1;32m    919\u001b[0m         \u001b[0;32melse\u001b[0m\u001b[0;34m:\u001b[0m\u001b[0;34m\u001b[0m\u001b[0;34m\u001b[0m\u001b[0m\n\u001b[1;32m    920\u001b[0m             \u001b[0;31m# fit method of arity 2 (supervised transformation)\u001b[0m\u001b[0;34m\u001b[0m\u001b[0;34m\u001b[0m\u001b[0m\n",
            "\u001b[0;32m/usr/local/lib/python3.11/dist-packages/sklearn/preprocessing/_data.py\u001b[0m in \u001b[0;36mfit\u001b[0;34m(self, X, y, sample_weight)\u001b[0m\n\u001b[1;32m    892\u001b[0m         \u001b[0;31m# Reset internal state before fitting\u001b[0m\u001b[0;34m\u001b[0m\u001b[0;34m\u001b[0m\u001b[0m\n\u001b[1;32m    893\u001b[0m         \u001b[0mself\u001b[0m\u001b[0;34m.\u001b[0m\u001b[0m_reset\u001b[0m\u001b[0;34m(\u001b[0m\u001b[0;34m)\u001b[0m\u001b[0;34m\u001b[0m\u001b[0;34m\u001b[0m\u001b[0m\n\u001b[0;32m--> 894\u001b[0;31m         \u001b[0;32mreturn\u001b[0m \u001b[0mself\u001b[0m\u001b[0;34m.\u001b[0m\u001b[0mpartial_fit\u001b[0m\u001b[0;34m(\u001b[0m\u001b[0mX\u001b[0m\u001b[0;34m,\u001b[0m \u001b[0my\u001b[0m\u001b[0;34m,\u001b[0m \u001b[0msample_weight\u001b[0m\u001b[0;34m)\u001b[0m\u001b[0;34m\u001b[0m\u001b[0;34m\u001b[0m\u001b[0m\n\u001b[0m\u001b[1;32m    895\u001b[0m \u001b[0;34m\u001b[0m\u001b[0m\n\u001b[1;32m    896\u001b[0m     \u001b[0;34m@\u001b[0m\u001b[0m_fit_context\u001b[0m\u001b[0;34m(\u001b[0m\u001b[0mprefer_skip_nested_validation\u001b[0m\u001b[0;34m=\u001b[0m\u001b[0;32mTrue\u001b[0m\u001b[0;34m)\u001b[0m\u001b[0;34m\u001b[0m\u001b[0;34m\u001b[0m\u001b[0m\n",
            "\u001b[0;32m/usr/local/lib/python3.11/dist-packages/sklearn/base.py\u001b[0m in \u001b[0;36mwrapper\u001b[0;34m(estimator, *args, **kwargs)\u001b[0m\n\u001b[1;32m   1387\u001b[0m                 )\n\u001b[1;32m   1388\u001b[0m             ):\n\u001b[0;32m-> 1389\u001b[0;31m                 \u001b[0;32mreturn\u001b[0m \u001b[0mfit_method\u001b[0m\u001b[0;34m(\u001b[0m\u001b[0mestimator\u001b[0m\u001b[0;34m,\u001b[0m \u001b[0;34m*\u001b[0m\u001b[0margs\u001b[0m\u001b[0;34m,\u001b[0m \u001b[0;34m**\u001b[0m\u001b[0mkwargs\u001b[0m\u001b[0;34m)\u001b[0m\u001b[0;34m\u001b[0m\u001b[0;34m\u001b[0m\u001b[0m\n\u001b[0m\u001b[1;32m   1390\u001b[0m \u001b[0;34m\u001b[0m\u001b[0m\n\u001b[1;32m   1391\u001b[0m         \u001b[0;32mreturn\u001b[0m \u001b[0mwrapper\u001b[0m\u001b[0;34m\u001b[0m\u001b[0;34m\u001b[0m\u001b[0m\n",
            "\u001b[0;32m/usr/local/lib/python3.11/dist-packages/sklearn/preprocessing/_data.py\u001b[0m in \u001b[0;36mpartial_fit\u001b[0;34m(self, X, y, sample_weight)\u001b[0m\n\u001b[1;32m    928\u001b[0m         \"\"\"\n\u001b[1;32m    929\u001b[0m         \u001b[0mfirst_call\u001b[0m \u001b[0;34m=\u001b[0m \u001b[0;32mnot\u001b[0m \u001b[0mhasattr\u001b[0m\u001b[0;34m(\u001b[0m\u001b[0mself\u001b[0m\u001b[0;34m,\u001b[0m \u001b[0;34m\"n_samples_seen_\"\u001b[0m\u001b[0;34m)\u001b[0m\u001b[0;34m\u001b[0m\u001b[0;34m\u001b[0m\u001b[0m\n\u001b[0;32m--> 930\u001b[0;31m         X = validate_data(\n\u001b[0m\u001b[1;32m    931\u001b[0m             \u001b[0mself\u001b[0m\u001b[0;34m,\u001b[0m\u001b[0;34m\u001b[0m\u001b[0;34m\u001b[0m\u001b[0m\n\u001b[1;32m    932\u001b[0m             \u001b[0mX\u001b[0m\u001b[0;34m,\u001b[0m\u001b[0;34m\u001b[0m\u001b[0;34m\u001b[0m\u001b[0m\n",
            "\u001b[0;32m/usr/local/lib/python3.11/dist-packages/sklearn/utils/validation.py\u001b[0m in \u001b[0;36mvalidate_data\u001b[0;34m(_estimator, X, y, reset, validate_separately, skip_check_array, **check_params)\u001b[0m\n\u001b[1;32m   2942\u001b[0m             \u001b[0mout\u001b[0m \u001b[0;34m=\u001b[0m \u001b[0mX\u001b[0m\u001b[0;34m,\u001b[0m \u001b[0my\u001b[0m\u001b[0;34m\u001b[0m\u001b[0;34m\u001b[0m\u001b[0m\n\u001b[1;32m   2943\u001b[0m     \u001b[0;32melif\u001b[0m \u001b[0;32mnot\u001b[0m \u001b[0mno_val_X\u001b[0m \u001b[0;32mand\u001b[0m \u001b[0mno_val_y\u001b[0m\u001b[0;34m:\u001b[0m\u001b[0;34m\u001b[0m\u001b[0;34m\u001b[0m\u001b[0m\n\u001b[0;32m-> 2944\u001b[0;31m         \u001b[0mout\u001b[0m \u001b[0;34m=\u001b[0m \u001b[0mcheck_array\u001b[0m\u001b[0;34m(\u001b[0m\u001b[0mX\u001b[0m\u001b[0;34m,\u001b[0m \u001b[0minput_name\u001b[0m\u001b[0;34m=\u001b[0m\u001b[0;34m\"X\"\u001b[0m\u001b[0;34m,\u001b[0m \u001b[0;34m**\u001b[0m\u001b[0mcheck_params\u001b[0m\u001b[0;34m)\u001b[0m\u001b[0;34m\u001b[0m\u001b[0;34m\u001b[0m\u001b[0m\n\u001b[0m\u001b[1;32m   2945\u001b[0m     \u001b[0;32melif\u001b[0m \u001b[0mno_val_X\u001b[0m \u001b[0;32mand\u001b[0m \u001b[0;32mnot\u001b[0m \u001b[0mno_val_y\u001b[0m\u001b[0;34m:\u001b[0m\u001b[0;34m\u001b[0m\u001b[0;34m\u001b[0m\u001b[0m\n\u001b[1;32m   2946\u001b[0m         \u001b[0mout\u001b[0m \u001b[0;34m=\u001b[0m \u001b[0m_check_y\u001b[0m\u001b[0;34m(\u001b[0m\u001b[0my\u001b[0m\u001b[0;34m,\u001b[0m \u001b[0;34m**\u001b[0m\u001b[0mcheck_params\u001b[0m\u001b[0;34m)\u001b[0m\u001b[0;34m\u001b[0m\u001b[0;34m\u001b[0m\u001b[0m\n",
            "\u001b[0;32m/usr/local/lib/python3.11/dist-packages/sklearn/utils/validation.py\u001b[0m in \u001b[0;36mcheck_array\u001b[0;34m(array, accept_sparse, accept_large_sparse, dtype, order, copy, force_writeable, force_all_finite, ensure_all_finite, ensure_non_negative, ensure_2d, allow_nd, ensure_min_samples, ensure_min_features, estimator, input_name)\u001b[0m\n\u001b[1;32m   1053\u001b[0m                     \u001b[0marray\u001b[0m \u001b[0;34m=\u001b[0m \u001b[0mxp\u001b[0m\u001b[0;34m.\u001b[0m\u001b[0mastype\u001b[0m\u001b[0;34m(\u001b[0m\u001b[0marray\u001b[0m\u001b[0;34m,\u001b[0m \u001b[0mdtype\u001b[0m\u001b[0;34m,\u001b[0m \u001b[0mcopy\u001b[0m\u001b[0;34m=\u001b[0m\u001b[0;32mFalse\u001b[0m\u001b[0;34m)\u001b[0m\u001b[0;34m\u001b[0m\u001b[0;34m\u001b[0m\u001b[0m\n\u001b[1;32m   1054\u001b[0m                 \u001b[0;32melse\u001b[0m\u001b[0;34m:\u001b[0m\u001b[0;34m\u001b[0m\u001b[0;34m\u001b[0m\u001b[0m\n\u001b[0;32m-> 1055\u001b[0;31m                     \u001b[0marray\u001b[0m \u001b[0;34m=\u001b[0m \u001b[0m_asarray_with_order\u001b[0m\u001b[0;34m(\u001b[0m\u001b[0marray\u001b[0m\u001b[0;34m,\u001b[0m \u001b[0morder\u001b[0m\u001b[0;34m=\u001b[0m\u001b[0morder\u001b[0m\u001b[0;34m,\u001b[0m \u001b[0mdtype\u001b[0m\u001b[0;34m=\u001b[0m\u001b[0mdtype\u001b[0m\u001b[0;34m,\u001b[0m \u001b[0mxp\u001b[0m\u001b[0;34m=\u001b[0m\u001b[0mxp\u001b[0m\u001b[0;34m)\u001b[0m\u001b[0;34m\u001b[0m\u001b[0;34m\u001b[0m\u001b[0m\n\u001b[0m\u001b[1;32m   1056\u001b[0m             \u001b[0;32mexcept\u001b[0m \u001b[0mComplexWarning\u001b[0m \u001b[0;32mas\u001b[0m \u001b[0mcomplex_warning\u001b[0m\u001b[0;34m:\u001b[0m\u001b[0;34m\u001b[0m\u001b[0;34m\u001b[0m\u001b[0m\n\u001b[1;32m   1057\u001b[0m                 raise ValueError(\n",
            "\u001b[0;32m/usr/local/lib/python3.11/dist-packages/sklearn/utils/_array_api.py\u001b[0m in \u001b[0;36m_asarray_with_order\u001b[0;34m(array, dtype, order, copy, xp, device)\u001b[0m\n\u001b[1;32m    837\u001b[0m             \u001b[0marray\u001b[0m \u001b[0;34m=\u001b[0m \u001b[0mnumpy\u001b[0m\u001b[0;34m.\u001b[0m\u001b[0marray\u001b[0m\u001b[0;34m(\u001b[0m\u001b[0marray\u001b[0m\u001b[0;34m,\u001b[0m \u001b[0morder\u001b[0m\u001b[0;34m=\u001b[0m\u001b[0morder\u001b[0m\u001b[0;34m,\u001b[0m \u001b[0mdtype\u001b[0m\u001b[0;34m=\u001b[0m\u001b[0mdtype\u001b[0m\u001b[0;34m)\u001b[0m\u001b[0;34m\u001b[0m\u001b[0;34m\u001b[0m\u001b[0m\n\u001b[1;32m    838\u001b[0m         \u001b[0;32melse\u001b[0m\u001b[0;34m:\u001b[0m\u001b[0;34m\u001b[0m\u001b[0;34m\u001b[0m\u001b[0m\n\u001b[0;32m--> 839\u001b[0;31m             \u001b[0marray\u001b[0m \u001b[0;34m=\u001b[0m \u001b[0mnumpy\u001b[0m\u001b[0;34m.\u001b[0m\u001b[0masarray\u001b[0m\u001b[0;34m(\u001b[0m\u001b[0marray\u001b[0m\u001b[0;34m,\u001b[0m \u001b[0morder\u001b[0m\u001b[0;34m=\u001b[0m\u001b[0morder\u001b[0m\u001b[0;34m,\u001b[0m \u001b[0mdtype\u001b[0m\u001b[0;34m=\u001b[0m\u001b[0mdtype\u001b[0m\u001b[0;34m)\u001b[0m\u001b[0;34m\u001b[0m\u001b[0;34m\u001b[0m\u001b[0m\n\u001b[0m\u001b[1;32m    840\u001b[0m \u001b[0;34m\u001b[0m\u001b[0m\n\u001b[1;32m    841\u001b[0m         \u001b[0;31m# At this point array is a NumPy ndarray. We convert it to an array\u001b[0m\u001b[0;34m\u001b[0m\u001b[0;34m\u001b[0m\u001b[0m\n",
            "\u001b[0;32m/usr/local/lib/python3.11/dist-packages/pandas/core/generic.py\u001b[0m in \u001b[0;36m__array__\u001b[0;34m(self, dtype, copy)\u001b[0m\n\u001b[1;32m   2151\u001b[0m     ) -> np.ndarray:\n\u001b[1;32m   2152\u001b[0m         \u001b[0mvalues\u001b[0m \u001b[0;34m=\u001b[0m \u001b[0mself\u001b[0m\u001b[0;34m.\u001b[0m\u001b[0m_values\u001b[0m\u001b[0;34m\u001b[0m\u001b[0;34m\u001b[0m\u001b[0m\n\u001b[0;32m-> 2153\u001b[0;31m         \u001b[0marr\u001b[0m \u001b[0;34m=\u001b[0m \u001b[0mnp\u001b[0m\u001b[0;34m.\u001b[0m\u001b[0masarray\u001b[0m\u001b[0;34m(\u001b[0m\u001b[0mvalues\u001b[0m\u001b[0;34m,\u001b[0m \u001b[0mdtype\u001b[0m\u001b[0;34m=\u001b[0m\u001b[0mdtype\u001b[0m\u001b[0;34m)\u001b[0m\u001b[0;34m\u001b[0m\u001b[0;34m\u001b[0m\u001b[0m\n\u001b[0m\u001b[1;32m   2154\u001b[0m         if (\n\u001b[1;32m   2155\u001b[0m             \u001b[0mastype_is_view\u001b[0m\u001b[0;34m(\u001b[0m\u001b[0mvalues\u001b[0m\u001b[0;34m.\u001b[0m\u001b[0mdtype\u001b[0m\u001b[0;34m,\u001b[0m \u001b[0marr\u001b[0m\u001b[0;34m.\u001b[0m\u001b[0mdtype\u001b[0m\u001b[0;34m)\u001b[0m\u001b[0;34m\u001b[0m\u001b[0;34m\u001b[0m\u001b[0m\n",
            "\u001b[0;31mValueError\u001b[0m: could not convert string to float: '2022-11'"
          ]
        }
      ]
    },
    {
      "cell_type": "markdown",
      "source": [
        "UNSUPERVISED!"
      ],
      "metadata": {
        "id": "issoyTkmV4fm"
      }
    },
    {
      "cell_type": "code",
      "source": [
        "import pandas as pd\n",
        "import numpy as np\n",
        "from sklearn.ensemble import IsolationForest\n",
        "from sklearn.preprocessing import StandardScaler\n",
        "from sklearn.impute import SimpleImputer\n",
        "import matplotlib.pyplot as plt\n",
        "import seaborn as sns\n",
        "\n",
        "# For Colab: upload your merged feeder file\n",
        "from google.colab import files\n",
        "uploaded = files.upload()"
      ],
      "metadata": {
        "id": "yONlvqCFV6pP"
      },
      "execution_count": null,
      "outputs": []
    },
    {
      "cell_type": "code",
      "source": [
        "# Load merged feeder data (with labels if any)\n",
        "df = pd.read_csv(\"/content/Unlabeled_Dataset_for_Unsupervised_Learning.csv\")\n",
        "\n",
        "# Drop label columns (optional)\n",
        "label_cols = [\n",
        "    \"Energy_Billed_kWh\", \"Billed_Amount\", \"Collection_Amount\",\n",
        "    \"Losses_kWh\", \"Loss_Percentage\", \"Billing_Mismatch\",\n",
        "    \"Billed Consumers\", \"Billed Load\"\n",
        "]\n",
        "df_cleaned = df.drop(columns=[col for col in label_cols if col in df.columns], errors='ignore')\n",
        "\n",
        "# Keep numeric features\n",
        "numeric_df = df_cleaned.select_dtypes(include=[\"number\"]).dropna(axis=1, how='all')"
      ],
      "metadata": {
        "id": "w4xNuQTuWPFa"
      },
      "execution_count": null,
      "outputs": []
    },
    {
      "cell_type": "code",
      "source": [
        "# Fill missing values with mean\n",
        "imputer = SimpleImputer(strategy=\"mean\")\n",
        "imputed_data = pd.DataFrame(imputer.fit_transform(numeric_df), columns=numeric_df.columns)\n",
        "\n",
        "# Scale the data\n",
        "scaler = StandardScaler()\n",
        "scaled_data = scaler.fit_transform(imputed_data)"
      ],
      "metadata": {
        "id": "lMT6RfLDWmYz"
      },
      "execution_count": null,
      "outputs": []
    },
    {
      "cell_type": "code",
      "source": [
        "# Train Isolation Forest\n",
        "iso_forest = IsolationForest(contamination=0.1, random_state=42)\n",
        "anomaly_labels = iso_forest.fit_predict(scaled_data)  # -1 = anomaly, 1 = normal\n",
        "\n",
        "# Add results\n",
        "imputed_data[\"Anomaly_Flag\"] = anomaly_labels\n"
      ],
      "metadata": {
        "id": "59nJkgM2WqAb"
      },
      "execution_count": null,
      "outputs": []
    },
    {
      "cell_type": "code",
      "source": [
        "from sklearn.decomposition import PCA\n",
        "\n",
        "pca = PCA(n_components=2)\n",
        "pca_data = pca.fit_transform(scaled_data)\n",
        "\n",
        "plt.figure(figsize=(10,6))\n",
        "sns.scatterplot(x=pca_data[:, 0], y=pca_data[:, 1], hue=imputed_data[\"Anomaly_Flag\"], palette={1: 'green', -1: 'red'})\n",
        "plt.title(\"Anomaly Detection with Isolation Forest (PCA View)\")\n",
        "plt.xlabel(\"PCA 1\")\n",
        "plt.ylabel(\"PCA 2\")\n",
        "plt.grid(True)\n",
        "plt.show()"
      ],
      "metadata": {
        "id": "FtPDRWWqWsrq"
      },
      "execution_count": null,
      "outputs": []
    }
  ]
}